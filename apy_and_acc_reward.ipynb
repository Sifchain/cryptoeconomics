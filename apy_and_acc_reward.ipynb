{
 "cells": [
  {
   "cell_type": "markdown",
   "metadata": {},
   "source": [
    "Last Updated: 21 Mar 2021"
   ]
  },
  {
   "cell_type": "markdown",
   "metadata": {},
   "source": [
    "Both Liquidity Mining and Validator Subsidy can use the same function for APY and reward calculation with slight tweak in paramters <br>\n",
    "e.g. TOTAL_REWARD would be different, snapshots would be fetching from different source"
   ]
  },
  {
   "cell_type": "markdown",
   "metadata": {},
   "source": [
    "## Liquidity mining constants"
   ]
  },
  {
   "cell_type": "markdown",
   "metadata": {},
   "source": [
    "MINING_SECONDS: the period of the liquidity mining programme (in seconds) <br>\n",
    "TOTAL_REWARD: total number of rewards to be distributed  <br>\n",
    "EPOCH_SECONDS: the period of an epoch (discretised liquidity mining)"
   ]
  },
  {
   "cell_type": "code",
   "execution_count": 1,
   "metadata": {},
   "outputs": [],
   "source": [
    "# Generic\n",
    "MINING_SECONDS = 4*30*86400 # 4 months in seconds \n",
    "TOTAL_REWARD = 30e6 # 30mil ROWAN to be distributed\n",
    "EPOCH_SECONDS = 10*60 # 10min per epoch\n",
    "\n",
    "# Bundling\n",
    "constants = {'miningSeconds':MINING_SECONDS,\n",
    "             'totalReward':TOTAL_REWARD,\n",
    "             'epochSeconds':EPOCH_SECONDS}"
   ]
  },
  {
   "cell_type": "code",
   "execution_count": 2,
   "metadata": {},
   "outputs": [],
   "source": [
    "def elementwisesum(listoflists):\n",
    "    \"\"\"element-wise summation of lists\"\"\"\n",
    "    return [sum(x) for x in zip(*listoflists)]"
   ]
  },
  {
   "cell_type": "code",
   "execution_count": 3,
   "metadata": {},
   "outputs": [],
   "source": [
    "# Scenario\n",
    "\"\"\"\n",
    "LM starts at 00:00\n",
    "Snapshots of users' provided liquidity (in USD) were taken every 10 minutes, there were 3 users staking\n",
    "The following is the state *right before* 02:00\n",
    "\"\"\"\n",
    "\n",
    "userA = [0, 0, 0, 100e3, 100e3, 100e3, 100e3, 100e3, 100e3, 100e3, 100e3, 100e3]\n",
    "userB = [100e3, 200e3, 200e3, 300e3, 300e3, 750e3, 800e3, 500e3, 200e3, 200e3, 10e3, 0]\n",
    "userC = [0, 0, 0, 0, 0, 0, 150e3, 20e3, 0, 50e3, 120e3, 50e3]\n",
    "\n",
    "list_userSnapshots = [userA, userB, userC]\n",
    "globalSnapshots = elementwisesum(list_userSnapshots)"
   ]
  },
  {
   "cell_type": "markdown",
   "metadata": {},
   "source": [
    "## Display live APY"
   ]
  },
  {
   "cell_type": "markdown",
   "metadata": {},
   "source": [
    "Since Geyser does not provide a higher APY than standard LM, we can just use the APY from a normal LM programme to display the *marginal* APY "
   ]
  },
  {
   "cell_type": "code",
   "execution_count": 4,
   "metadata": {},
   "outputs": [],
   "source": [
    "def get_APY(totalStaked, rowanPrice, **kwargs):\n",
    "    \"\"\"\n",
    "    Get live APY\n",
    "    args:\n",
    "        totalStaked: global total liquidity staked/provided (in USD)\n",
    "        rowanPrice: price of ROWAN (in USD)\n",
    "    kwargs:\n",
    "        miningSeconds: the period of the liquidity mining programme (in seconds)\n",
    "        totalReward: total rewards to be distributed (in ROWAN)\n",
    "    returns:\n",
    "        apy: marginal APY\n",
    "    \"\"\"\n",
    "    miningSeconds, totalReward = kwargs['miningSeconds'], kwargs['totalReward']\n",
    "    \n",
    "    if totalStaked > 0: # prevent edge case\n",
    "        apy = totalReward * rowanPrice \\\n",
    "            / totalStaked \\\n",
    "            * 365 * 86400 / miningSeconds \\\n",
    "            * 100\n",
    "    else:\n",
    "        apy = 1e9 # show an insanely high APY when no one is providing liquidity\n",
    "    return apy"
   ]
  },
  {
   "cell_type": "code",
   "execution_count": 5,
   "metadata": {},
   "outputs": [
    {
     "name": "stdout",
     "output_type": "stream",
     "text": [
      "LM APY: 36500.00%\n"
     ]
    }
   ],
   "source": [
    "# Example\n",
    "\"\"\"\n",
    "using above-mentioned scenario\n",
    "all users have the same *marginal* APY\n",
    "get_APY() is memoryless and user-independent\n",
    "\n",
    "Assume price of ROWAN = $0.6\n",
    "\"\"\"\n",
    "\n",
    "totalStaked = globalSnapshots[-1]\n",
    "\n",
    "apy = get_APY(totalStaked=totalStaked, \n",
    "              rowanPrice=0.6,\n",
    "              **constants)\n",
    "\n",
    "print(f'LM APY: {apy:.2f}%')"
   ]
  },
  {
   "cell_type": "markdown",
   "metadata": {},
   "source": [
    "## Display user accumulated reward"
   ]
  },
  {
   "cell_type": "markdown",
   "metadata": {},
   "source": [
    "### Normal LM"
   ]
  },
  {
   "cell_type": "markdown",
   "metadata": {},
   "source": [
    "The user accumulated reward under normal LM"
   ]
  },
  {
   "cell_type": "code",
   "execution_count": 6,
   "metadata": {},
   "outputs": [],
   "source": [
    "def get_normal_accmulated_reward(userSnapshots, globalSnapshots, **kwargs):\n",
    "    \"\"\"\n",
    "    Get user's accumulated reward under normal liquidity mining\n",
    "    args:\n",
    "        userSnapshots: a list of user's provided liquidity at diff snapshots (in USD)\n",
    "        globalSnapshots: a list of global total provided liquidity at diff snapshots (in USD)\n",
    "    kwargs:\n",
    "        miningSeconds: the period of the liquidity mining programme (in seconds)\n",
    "        totalReward: total rewards to be distributed (in ROWAN)\n",
    "        epochSeconds: the period of an epoch (in seconds) as we take a snapshot per epoch\n",
    "    returns:\n",
    "        userAccReward: user's accumulated reward (in ROWAN)\n",
    "    \"\"\"\n",
    "    \n",
    "    assert len(userSnapshots) == len(globalSnapshots), 'Lists have different lengths'\n",
    "    miningSeconds, totalReward, epochSeconds = kwargs['miningSeconds'], kwargs['totalReward'], kwargs['epochSeconds']\n",
    "    # total reward distributed per epoch\n",
    "    totalRewardPerEpoch = totalReward / miningSeconds * epochSeconds\n",
    "    \n",
    "    # sum(reward distributed pro-rata at each epoch)\n",
    "    userAccReward = sum([userStaked / globalStaked * totalRewardPerEpoch for userStaked, globalStaked in zip(userSnapshots, globalSnapshots)])\n",
    "    return userAccReward"
   ]
  },
  {
   "cell_type": "code",
   "execution_count": 7,
   "metadata": {},
   "outputs": [
    {
     "name": "stdout",
     "output_type": "stream",
     "text": [
      "User A accumulated reward: 4504.64 ROWAN\n",
      "User B accumulated reward: 14292.16 ROWAN\n",
      "User C accumulated reward: 2036.54 ROWAN\n"
     ]
    }
   ],
   "source": [
    "globalAccReward_normal = 0\n",
    "for userSnapshots, username in zip([userA, userB, userC], ['A', 'B', 'C']):\n",
    "    \n",
    "    userAccReward = get_normal_accmulated_reward(userSnapshots=userSnapshots, \n",
    "                                                 globalSnapshots=globalSnapshots, \n",
    "                                                 **constants)\n",
    "    globalAccReward_normal += userAccReward\n",
    "    print(f'User {username} accumulated reward: {userAccReward:.2f} ROWAN')"
   ]
  },
  {
   "cell_type": "code",
   "execution_count": 8,
   "metadata": {},
   "outputs": [
    {
     "name": "stdout",
     "output_type": "stream",
     "text": [
      "Total accumulated reward: 20833.333333333332 ROWAN\n",
      "Checksum: 20833.333333333332 ROWAN\n"
     ]
    }
   ],
   "source": [
    "print(f'Total accumulated reward: {globalAccReward_normal} ROWAN')\n",
    "print(f'Checksum: {TOTAL_REWARD/MINING_SECONDS*EPOCH_SECONDS*len(globalSnapshots)} ROWAN')"
   ]
  },
  {
   "cell_type": "markdown",
   "metadata": {},
   "source": [
    "### Geyser LM"
   ]
  },
  {
   "cell_type": "markdown",
   "metadata": {},
   "source": [
    "The user accumulated reward under geyser LM <br>"
   ]
  },
  {
   "cell_type": "code",
   "execution_count": 9,
   "metadata": {},
   "outputs": [],
   "source": [
    "def get_userEpochsSnapshots(userSnapshots):\n",
    "    \"\"\"\n",
    "    Convert userSnapshots into userEpochsSnapshots for Geyser calculation\n",
    "    args:\n",
    "        userSnapshots: a list of user's provided liquidity at diff snapshots (in USD)\n",
    "    returns:\n",
    "        userEpochsSnapshots: a list of user's liquidity-epochs provided at diff snapshots (in USD-snapshot)\n",
    "    \"\"\"\n",
    "    # initialise\n",
    "    user_memory = [] \n",
    "    userEpochsSnapshots = []\n",
    "\n",
    "    for i in range(len(userSnapshots)):\n",
    "        if userSnapshots[i] == 0: # if none staked at snapshot\n",
    "            user_memory = [] # clear memory\n",
    "        else: # if some staked at snapshot\n",
    "            # get the difference between the previous snapshot\n",
    "            if i == 0:\n",
    "                diff = userSnapshots[0]\n",
    "            else:\n",
    "                diff = userSnapshots[i] - userSnapshots[i-1]\n",
    "\n",
    "            if diff > 0: # if more tokens are staked\n",
    "                user_memory.append((i,diff)) # record (index, difference in staked token)\n",
    "            elif diff < 0: # if some tokens are withdrawn\n",
    "                deficit = -diff\n",
    "                while deficit > 0:\n",
    "                    if user_memory[-1][-1] > deficit: # partial remove\n",
    "                        user_memory[-1] = (user_memory[-1][0], user_memory[-1][-1]-deficit)\n",
    "                        deficit = 0\n",
    "                    else:\n",
    "                        deficit -= user_memory[-1][-1]\n",
    "                        user_memory = user_memory[:-1]\n",
    "        userEpochsSnapshots.append(sum([(i-mem[0]+1)*mem[1] for mem in user_memory]))\n",
    "    return userEpochsSnapshots"
   ]
  },
  {
   "cell_type": "code",
   "execution_count": 10,
   "metadata": {},
   "outputs": [],
   "source": [
    "def get_globalEpochsSnapshots(list_userSnapshots):\n",
    "    \"\"\"\n",
    "    Compute globalEpochsSnapshots from a list of userSnapshots\n",
    "    args:\n",
    "        list_userSnapshots: a FULL list of userSnapshots (must include all users to capture the global state)\n",
    "    requires:\n",
    "        elementwisesum()\n",
    "    returns:\n",
    "        globalEpochsSnapshots: a list of global total liquidity-epochs (liquidity-seconds) provided at diff snapshots (in ROWAN)\n",
    "    \"\"\"\n",
    "    list_userEpochsSnapshots = []\n",
    "    for l in list_userSnapshots:\n",
    "        list_userEpochsSnapshots.append(get_userEpochsSnapshots(l))\n",
    "    globalEpochsSnapshots = elementwisesum(list_userEpochsSnapshots)\n",
    "    return globalEpochsSnapshots"
   ]
  },
  {
   "cell_type": "code",
   "execution_count": 11,
   "metadata": {},
   "outputs": [],
   "source": [
    "def get_geyser_accmulated_reward(userSnapshots, list_userSnapshots, **kwargs):\n",
    "    \"\"\"\n",
    "    Get user's accumulated reward under geyser liquidity mining\n",
    "    args:\n",
    "        userSnapshots: a list of user's liquidity provided at diff snapshots (in ROWAN)\n",
    "        list_userSnapshots: a FULL list of userSnapshots (must include all users to capture the global state)\n",
    "    kwargs:\n",
    "        miningSeconds: the period of the liquidity mining programme (in seconds)\n",
    "        totalReward: total number of rewards to be distributed\n",
    "        epochSeconds: the period of an epoch (in seconds) as we take a snapshot per epoch\n",
    "    requires:\n",
    "        get_userEpochsSnapshots()\n",
    "        get_globalEpochsSnapshots()\n",
    "    returns:\n",
    "        userAccReward: user's accumulated reward\n",
    "    \"\"\"\n",
    "    \n",
    "    userAccReward = get_normal_accmulated_reward(userSnapshots=get_userEpochsSnapshots(userSnapshots), \n",
    "                                                 globalSnapshots=get_globalEpochsSnapshots(list_userSnapshots), \n",
    "                                                 **kwargs)\n",
    "    return userAccReward"
   ]
  },
  {
   "cell_type": "code",
   "execution_count": 12,
   "metadata": {},
   "outputs": [
    {
     "name": "stdout",
     "output_type": "stream",
     "text": [
      "User A accumulated reward: 4881.31 ROWAN\n",
      "User B accumulated reward: 15294.48 ROWAN\n",
      "User C accumulated reward: 657.55 ROWAN\n"
     ]
    }
   ],
   "source": [
    "globalAccReward_geyser = 0\n",
    "for userSnapshots, username in zip([userA, userB, userC], ['A', 'B', 'C']):\n",
    "    \n",
    "    userAccReward = get_geyser_accmulated_reward(userSnapshots=userSnapshots, \n",
    "                                                 list_userSnapshots=[userA, userB, userC], \n",
    "                                                 **constants)\n",
    "    globalAccReward_geyser += userAccReward\n",
    "    print(f'User {username} accumulated reward: {userAccReward:.2f} ROWAN')"
   ]
  },
  {
   "cell_type": "code",
   "execution_count": 13,
   "metadata": {},
   "outputs": [
    {
     "name": "stdout",
     "output_type": "stream",
     "text": [
      "Total accumulated reward: 20833.333333333332 ROWAN\n",
      "Checksum: 20833.333333333332 ROWAN\n"
     ]
    }
   ],
   "source": [
    "print(f'Total accumulated reward: {globalAccReward_geyser} ROWAN')\n",
    "print(f'Checksum: {TOTAL_REWARD/MINING_SECONDS*EPOCH_SECONDS*len(globalSnapshots)} ROWAN')"
   ]
  },
  {
   "cell_type": "markdown",
   "metadata": {},
   "source": [
    "## Blind calling live APY & user accumulated reward under Geyser"
   ]
  },
  {
   "cell_type": "code",
   "execution_count": 14,
   "metadata": {},
   "outputs": [],
   "source": [
    "# Only use functions from utils blindly\n",
    "from live_data import get_APY, get_geyser_accmulated_reward, elementwisesum\n",
    "\n",
    "# set constants\n",
    "constants = {'miningSeconds':4*30*86400,\n",
    "             'totalReward':30e6,\n",
    "             'epochSeconds':10*60}\n",
    "\n",
    "rowanPrice = 0.6\n",
    "# obtain snapshots from all users\n",
    "userA = [0, 0, 0, 100e3, 100e3, 100e3, 100e3, 100e3, 100e3, 100e3, 100e3, 100e3]\n",
    "userB = [100e3, 200e3, 200e3, 300e3, 300e3, 750e3, 800e3, 500e3, 200e3, 200e3, 10e3, 0]\n",
    "userC = [0, 0, 0, 0, 0, 0, 150e3, 20e3, 0, 50e3, 120e3, 50e3]\n",
    "\n",
    "list_userSnapshots = [userA, userB, userC]\n",
    "globalSnapshots = elementwisesum(list_userSnapshots)"
   ]
  },
  {
   "cell_type": "code",
   "execution_count": 15,
   "metadata": {},
   "outputs": [
    {
     "name": "stdout",
     "output_type": "stream",
     "text": [
      "APY: 36500.00%\n"
     ]
    }
   ],
   "source": [
    "apy = get_APY(totalStaked=globalSnapshots[-1], \n",
    "              rowanPrice=rowanPrice,\n",
    "              **constants)\n",
    "\n",
    "print(f'APY: {apy:.2f}%')"
   ]
  },
  {
   "cell_type": "code",
   "execution_count": 16,
   "metadata": {},
   "outputs": [
    {
     "name": "stdout",
     "output_type": "stream",
     "text": [
      "User A accumulated reward: 4881.31 ROWAN\n"
     ]
    }
   ],
   "source": [
    "userAccReward = get_geyser_accmulated_reward(userSnapshots=userA, \n",
    "                                             list_userSnapshots=[userA, userB, userC], \n",
    "                                             **constants)\n",
    "print(f'User A accumulated reward: {userAccReward:.2f} ROWAN')"
   ]
  },
  {
   "cell_type": "code",
   "execution_count": 17,
   "metadata": {},
   "outputs": [
    {
     "name": "stdout",
     "output_type": "stream",
     "text": [
      "User B accumulated reward: 15294.48 ROWAN\n"
     ]
    }
   ],
   "source": [
    "userAccReward = get_geyser_accmulated_reward(userSnapshots=userB, \n",
    "                                             list_userSnapshots=[userA, userB, userC], \n",
    "                                             **constants)\n",
    "print(f'User B accumulated reward: {userAccReward:.2f} ROWAN')"
   ]
  },
  {
   "cell_type": "code",
   "execution_count": 18,
   "metadata": {},
   "outputs": [
    {
     "name": "stdout",
     "output_type": "stream",
     "text": [
      "User C accumulated reward: 657.55 ROWAN\n"
     ]
    }
   ],
   "source": [
    "userAccReward = get_geyser_accmulated_reward(userSnapshots=userC, \n",
    "                                             list_userSnapshots=[userA, userB, userC], \n",
    "                                             **constants)\n",
    "print(f'User C accumulated reward: {userAccReward:.2f} ROWAN')"
   ]
  },
  {
   "cell_type": "code",
   "execution_count": null,
   "metadata": {},
   "outputs": [],
   "source": []
  }
 ],
 "metadata": {
  "kernelspec": {
   "display_name": "Python 3",
   "language": "python",
   "name": "python3"
  },
  "language_info": {
   "codemirror_mode": {
    "name": "ipython",
    "version": 3
   },
   "file_extension": ".py",
   "mimetype": "text/x-python",
   "name": "python",
   "nbconvert_exporter": "python",
   "pygments_lexer": "ipython3",
   "version": "3.7.6"
  }
 },
 "nbformat": 4,
 "nbformat_minor": 4
}
