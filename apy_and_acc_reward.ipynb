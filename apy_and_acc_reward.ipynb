{
 "cells": [
  {
   "cell_type": "markdown",
   "metadata": {},
   "source": [
    "Last Updated: 25 Feb 2021"
   ]
  },
  {
   "cell_type": "markdown",
   "metadata": {},
   "source": [
    "## Liquidity mining constants"
   ]
  },
  {
   "cell_type": "markdown",
   "metadata": {},
   "source": [
    "MINING_SECONDS: the period of the liquidity mining programme (in seconds) <br>\n",
    "TOTAL_REWARD: total number of rewards to be distributed  <br>\n",
    "EPOCH_SECONDS: the period of an epoch (discretised liquidity mining)"
   ]
  },
  {
   "cell_type": "code",
   "execution_count": 1,
   "metadata": {},
   "outputs": [],
   "source": [
    "# Generic\n",
    "MINING_SECONDS = 4*30*86400 # 4 months in seconds \n",
    "TOTAL_REWARD = 30e6 # 30mil ROWAN to be distributed\n",
    "EPOCH_SECONDS = 10*60 # 10min per epoch\n",
    "\n",
    "# Bundling\n",
    "constants = {'miningSeconds':MINING_SECONDS,\n",
    "             'totalReward':TOTAL_REWARD,\n",
    "             'epochSeconds':EPOCH_SECONDS}"
   ]
  },
  {
   "cell_type": "code",
   "execution_count": 2,
   "metadata": {},
   "outputs": [],
   "source": [
    "def elementwisesum(listoflists):\n",
    "    \"\"\"element-wise summation of lists\"\"\"\n",
    "    return [sum(x) for x in zip(*listoflists)]"
   ]
  },
  {
   "cell_type": "code",
   "execution_count": 3,
   "metadata": {},
   "outputs": [],
   "source": [
    "# Scenario\n",
    "\"\"\"\n",
    "LM starts at 00:00\n",
    "Snapshots were taken every 10 minutes, there were 3 users staking\n",
    "The following is the state *right before* 02:00\n",
    "\"\"\"\n",
    "\n",
    "userA = [0, 0, 0, 10e3, 10e3, 10e3, 10e3, 10e3, 10e3, 10e3, 10e3, 10e3]\n",
    "userB = [10e3, 20e3, 20e3, 30e3, 30e3, 75e3, 80e3, 50e3, 20e3, 20e3, 1e3, 0]\n",
    "userC = [0, 0, 0, 0, 0, 0, 15e3, 2e3, 0, 5e3, 12e3, 5e3]\n",
    "\n",
    "list_userSnapshots = [userA, userB, userC]\n",
    "globalSnapshots = elementwisesum(list_userSnapshots)"
   ]
  },
  {
   "cell_type": "markdown",
   "metadata": {},
   "source": [
    "## Display live APY"
   ]
  },
  {
   "cell_type": "markdown",
   "metadata": {},
   "source": [
    "Since Geyser does not provide a higher APY than standard LM, we can just use the APY from a normal LM programme to display the *marginal* APY "
   ]
  },
  {
   "cell_type": "code",
   "execution_count": 4,
   "metadata": {},
   "outputs": [],
   "source": [
    "def get_APY(totalStaked, **kwargs):\n",
    "    \"\"\"\n",
    "    Get live APY\n",
    "    args:\n",
    "        totalStaked: global total liquidity staked (in ROWAN)\n",
    "    kwargs:\n",
    "        miningSeconds: the period of the liquidity mining programme (in seconds)\n",
    "        totalReward: total number of rewards to be distributed\n",
    "    returns:\n",
    "        apy: marginal APY\n",
    "    \"\"\"\n",
    "    miningSeconds, totalReward = kwargs['miningSeconds'], kwargs['totalReward']\n",
    "    \n",
    "    if totalStaked > 0: # prevent edge case\n",
    "        apy = totalReward \\\n",
    "            / totalStaked \\\n",
    "            * 365 * 86400 / miningSeconds \\\n",
    "            * 100\n",
    "    else:\n",
    "        apy = 1e9 # show an insanely high APY when no one is providing liquidity\n",
    "    return apy"
   ]
  },
  {
   "cell_type": "code",
   "execution_count": 5,
   "metadata": {},
   "outputs": [
    {
     "name": "stdout",
     "output_type": "stream",
     "text": [
      "LM APY: 608333.33%\n"
     ]
    }
   ],
   "source": [
    "# Example\n",
    "\"\"\"\n",
    "using above-mentioned scenario\n",
    "all users have the same *marginal* APY\n",
    "get_APY() is memoryless and user-independent\n",
    "\"\"\"\n",
    "\n",
    "totalStaked = globalSnapshots[-1]\n",
    "\n",
    "apy = get_APY(totalStaked=totalStaked, \n",
    "              **constants)\n",
    "\n",
    "print(f'LM APY: {apy:.2f}%')"
   ]
  },
  {
   "cell_type": "markdown",
   "metadata": {},
   "source": [
    "## Display user accumulated reward"
   ]
  },
  {
   "cell_type": "markdown",
   "metadata": {},
   "source": [
    "### Normal LM"
   ]
  },
  {
   "cell_type": "markdown",
   "metadata": {},
   "source": [
    "The user accumulated reward under normal LM"
   ]
  },
  {
   "cell_type": "code",
   "execution_count": 6,
   "metadata": {},
   "outputs": [],
   "source": [
    "def get_normal_accmulated_reward(userSnapshots, globalSnapshots, **kwargs):\n",
    "    \"\"\"\n",
    "    Get user's accumulated reward under normal liquidity mining\n",
    "    args:\n",
    "        userSnapshots: a list of user's liquidity staked at diff snapshots (in ROWAN)\n",
    "        globalSnapshots: a list of global total liquidity staked at diff snapshots (in ROWAN)\n",
    "    kwargs:\n",
    "        miningSeconds: the period of the liquidity mining programme (in seconds)\n",
    "        totalReward: total number of rewards to be distributed\n",
    "        epochSeconds: the period of an epoch (in seconds) as we take a snapshot per epoch\n",
    "    returns:\n",
    "        userAccReward: user's accumulated reward\n",
    "    \"\"\"\n",
    "    \n",
    "    assert len(userSnapshots) == len(globalSnapshots), 'Lists have different lengths'\n",
    "    miningSeconds, totalReward, epochSeconds = kwargs['miningSeconds'], kwargs['totalReward'], kwargs['epochSeconds']\n",
    "    # total reward distributed per epoch\n",
    "    totalRewardPerEpoch = totalReward / miningSeconds * epochSeconds\n",
    "    \n",
    "    # sum(reward distributed pro-rata at each epoch)\n",
    "    userAccReward = sum([userStaked / globalStaked * totalRewardPerEpoch for userStaked, globalStaked in zip(userSnapshots, globalSnapshots)])\n",
    "    return userAccReward"
   ]
  },
  {
   "cell_type": "code",
   "execution_count": 7,
   "metadata": {},
   "outputs": [
    {
     "name": "stdout",
     "output_type": "stream",
     "text": [
      "User A accumulated reward: 4504.63953307675\n",
      "User B accumulated reward: 14292.157664842467\n",
      "User C accumulated reward: 2036.5361354141157\n"
     ]
    }
   ],
   "source": [
    "globalAccReward_normal = 0\n",
    "for userSnapshots, username in zip([userA, userB, userC], ['A', 'B', 'C']):\n",
    "    \n",
    "    userAccReward = get_normal_accmulated_reward(userSnapshots=userSnapshots, \n",
    "                                                 globalSnapshots=globalSnapshots, \n",
    "                                                 **constants)\n",
    "    globalAccReward_normal += userAccReward\n",
    "    print(f'User {username} accumulated reward: {userAccReward}')"
   ]
  },
  {
   "cell_type": "code",
   "execution_count": 8,
   "metadata": {},
   "outputs": [
    {
     "name": "stdout",
     "output_type": "stream",
     "text": [
      "Total accumulated reward: 20833.333333333332\n",
      "Checksum: 20833.333333333332\n"
     ]
    }
   ],
   "source": [
    "print(f'Total accumulated reward: {globalAccReward_normal}')\n",
    "print(f'Checksum: {TOTAL_REWARD/MINING_SECONDS*EPOCH_SECONDS*len(globalSnapshots)}')"
   ]
  },
  {
   "cell_type": "markdown",
   "metadata": {},
   "source": [
    "### Geyser LM"
   ]
  },
  {
   "cell_type": "markdown",
   "metadata": {},
   "source": [
    "The user accumulated reward under geyser LM <br>"
   ]
  },
  {
   "cell_type": "code",
   "execution_count": 9,
   "metadata": {},
   "outputs": [],
   "source": [
    "def get_userSecondsSnapshots(userSnapshots):\n",
    "    \"\"\"\n",
    "    Convert userSnapshots into userSecondsSnapshots for Geyser calculation\n",
    "    args:\n",
    "        userSnapshots: a list of user's liquidity staked at diff snapshots (in ROWAN)\n",
    "    returns:\n",
    "        userSecondsSnapshots: a list of user's liquidity-epochs (liquidity-seconds) staked at diff snapshots (in ROWAN)\n",
    "    \"\"\"\n",
    "    # initialise\n",
    "    user_memory = [] \n",
    "    userSecondsSnapshots = []\n",
    "\n",
    "    for i in range(len(userSnapshots)):\n",
    "        if userSnapshots[i] == 0: # if none staked at snapshot\n",
    "            user_memory = [] # clear memory\n",
    "        else: # if some staked at snapshot\n",
    "            # get the difference between the previous snapshot\n",
    "            if i == 0:\n",
    "                diff = userSnapshots[0]\n",
    "            else:\n",
    "                diff = userSnapshots[i] - userSnapshots[i-1]\n",
    "\n",
    "            if diff > 0: # if more tokens are staked\n",
    "                user_memory.append((i,diff)) # record (index, difference in staked token)\n",
    "            elif diff < 0: # if some tokens are withdrawn\n",
    "                deficit = -diff\n",
    "                while deficit > 0:\n",
    "                    if user_memory[-1][-1] > deficit: # partial remove\n",
    "                        user_memory[-1] = (user_memory[-1][0], user_memory[-1][-1]-deficit)\n",
    "                        deficit = 0\n",
    "                    else:\n",
    "                        deficit -= user_memory[-1][-1]\n",
    "                        user_memory = user_memory[:-1]\n",
    "        userSecondsSnapshots.append(sum([(i-mem[0]+1)*mem[1] for mem in user_memory]))\n",
    "    return userSecondsSnapshots"
   ]
  },
  {
   "cell_type": "code",
   "execution_count": 10,
   "metadata": {},
   "outputs": [],
   "source": [
    "def get_globalSecondsSnapshots(list_userSnapshots):\n",
    "    \"\"\"\n",
    "    Compute globalSecondsSnapshots from a list of userSnapshots\n",
    "    args:\n",
    "        list_userSnapshots: a FULL list of userSnapshots (must include all users to capture the global state)\n",
    "    requires:\n",
    "        elementwisesum()\n",
    "    returns:\n",
    "        globalSecondsSnapshots: a list of global total liquidity-epochs (liquidity-seconds) staked at diff snapshots (in ROWAN)\n",
    "    \"\"\"\n",
    "    list_userSecondsSnapshots = []\n",
    "    for l in list_userSnapshots:\n",
    "        list_userSecondsSnapshots.append(get_userSecondsSnapshots(l))\n",
    "    globalSecondsSnapshots = elementwisesum(list_userSecondsSnapshots)\n",
    "    return globalSecondsSnapshots"
   ]
  },
  {
   "cell_type": "code",
   "execution_count": 11,
   "metadata": {},
   "outputs": [],
   "source": [
    "def get_geyser_accmulated_reward(userSnapshots, list_userSnapshots, **kwargs):\n",
    "    \"\"\"\n",
    "    Get user's accumulated reward under geyser liquidity mining\n",
    "    args:\n",
    "        userSnapshots: a list of user's liquidity staked at diff snapshots (in ROWAN)\n",
    "        list_userSnapshots: a FULL list of userSnapshots (must include all users to capture the global state)\n",
    "    kwargs:\n",
    "        miningSeconds: the period of the liquidity mining programme (in seconds)\n",
    "        totalReward: total number of rewards to be distributed\n",
    "        epochSeconds: the period of an epoch (in seconds) as we take a snapshot per epoch\n",
    "    requires:\n",
    "        get_userSecondsSnapshots()\n",
    "        get_globalSecondsSnapshots()\n",
    "    returns:\n",
    "        userAccReward: user's accumulated reward\n",
    "    \"\"\"\n",
    "    \n",
    "    userAccReward = get_normal_accmulated_reward(userSnapshots=get_userSecondsSnapshots(userSnapshots), \n",
    "                                                 globalSnapshots=get_globalSecondsSnapshots(list_userSnapshots), \n",
    "                                                 **kwargs)\n",
    "    return userAccReward"
   ]
  },
  {
   "cell_type": "code",
   "execution_count": 12,
   "metadata": {},
   "outputs": [
    {
     "name": "stdout",
     "output_type": "stream",
     "text": [
      "User A accumulated reward: 4881.305423550728\n",
      "User B accumulated reward: 15294.48220093532\n",
      "User C accumulated reward: 657.5457088472862\n"
     ]
    }
   ],
   "source": [
    "globalAccReward_geyser = 0\n",
    "for userSnapshots, username in zip([userA, userB, userC], ['A', 'B', 'C']):\n",
    "    \n",
    "    userAccReward = get_geyser_accmulated_reward(userSnapshots=userSnapshots, \n",
    "                                                 list_userSnapshots=[userA, userB, userC], \n",
    "                                                 **constants)\n",
    "    globalAccReward_geyser += userAccReward\n",
    "    print(f'User {username} accumulated reward: {userAccReward}')"
   ]
  },
  {
   "cell_type": "code",
   "execution_count": 13,
   "metadata": {},
   "outputs": [
    {
     "name": "stdout",
     "output_type": "stream",
     "text": [
      "Total accumulated reward: 20833.333333333332\n",
      "Checksum: 20833.333333333332\n"
     ]
    }
   ],
   "source": [
    "print(f'Total accumulated reward: {globalAccReward_geyser}')\n",
    "print(f'Checksum: {TOTAL_REWARD/MINING_SECONDS*EPOCH_SECONDS*len(globalSnapshots)}')"
   ]
  },
  {
   "cell_type": "markdown",
   "metadata": {},
   "source": [
    "## Blind calling live APY & user accumulated reward under Geyser"
   ]
  },
  {
   "cell_type": "code",
   "execution_count": 1,
   "metadata": {},
   "outputs": [],
   "source": [
    "# Only use functions from utils blindly\n",
    "from live_data import get_APY, get_geyser_accmulated_reward, elementwisesum\n",
    "\n",
    "# set constants\n",
    "constants = {'miningSeconds':4*30*86400,\n",
    "             'totalReward':30e6,\n",
    "             'epochSeconds':10*60}\n",
    "\n",
    "# obtain snapshots from all users\n",
    "userA = [0, 0, 0, 10e3, 10e3, 10e3, 10e3, 10e3, 10e3, 10e3, 10e3, 10e3]\n",
    "userB = [10e3, 20e3, 20e3, 30e3, 30e3, 75e3, 80e3, 50e3, 20e3, 20e3, 1e3, 0]\n",
    "userC = [0, 0, 0, 0, 0, 0, 15e3, 2e3, 0, 5e3, 12e3, 5e3]\n",
    "\n",
    "list_userSnapshots = [userA, userB, userC]\n",
    "globalSnapshots = elementwisesum(list_userSnapshots)"
   ]
  },
  {
   "cell_type": "code",
   "execution_count": 2,
   "metadata": {},
   "outputs": [
    {
     "name": "stdout",
     "output_type": "stream",
     "text": [
      "APY: 608333.33%\n"
     ]
    }
   ],
   "source": [
    "apy = get_APY(totalStaked=globalSnapshots[-1], \n",
    "              **constants)\n",
    "\n",
    "print(f'APY: {apy:.2f}%')"
   ]
  },
  {
   "cell_type": "code",
   "execution_count": 3,
   "metadata": {},
   "outputs": [
    {
     "name": "stdout",
     "output_type": "stream",
     "text": [
      "User A accumulated reward: 4881.305423550728\n"
     ]
    }
   ],
   "source": [
    "userAccReward = get_geyser_accmulated_reward(userSnapshots=userA, \n",
    "                                             list_userSnapshots=[userA, userB, userC], \n",
    "                                             **constants)\n",
    "print(f'User A accumulated reward: {userAccReward}')"
   ]
  },
  {
   "cell_type": "code",
   "execution_count": 4,
   "metadata": {},
   "outputs": [
    {
     "name": "stdout",
     "output_type": "stream",
     "text": [
      "User B accumulated reward: 15294.48220093532\n"
     ]
    }
   ],
   "source": [
    "userAccReward = get_geyser_accmulated_reward(userSnapshots=userB, \n",
    "                                             list_userSnapshots=[userA, userB, userC], \n",
    "                                             **constants)\n",
    "print(f'User B accumulated reward: {userAccReward}')"
   ]
  },
  {
   "cell_type": "code",
   "execution_count": 5,
   "metadata": {},
   "outputs": [
    {
     "name": "stdout",
     "output_type": "stream",
     "text": [
      "User C accumulated reward: 657.5457088472862\n"
     ]
    }
   ],
   "source": [
    "userAccReward = get_geyser_accmulated_reward(userSnapshots=userC, \n",
    "                                             list_userSnapshots=[userA, userB, userC], \n",
    "                                             **constants)\n",
    "print(f'User C accumulated reward: {userAccReward}')"
   ]
  },
  {
   "cell_type": "code",
   "execution_count": null,
   "metadata": {},
   "outputs": [],
   "source": []
  }
 ],
 "metadata": {
  "kernelspec": {
   "display_name": "Python 3",
   "language": "python",
   "name": "python3"
  },
  "language_info": {
   "codemirror_mode": {
    "name": "ipython",
    "version": 3
   },
   "file_extension": ".py",
   "mimetype": "text/x-python",
   "name": "python",
   "nbconvert_exporter": "python",
   "pygments_lexer": "ipython3",
   "version": "3.7.6"
  }
 },
 "nbformat": 4,
 "nbformat_minor": 4
}
