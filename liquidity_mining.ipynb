{
  "nbformat": 4,
  "nbformat_minor": 0,
  "metadata": {
    "colab": {
      "name": "liquidity_mining.ipynb",
      "provenance": []
    },
    "kernelspec": {
      "name": "python3",
      "display_name": "Python 3"
    }
  },
  "cells": [
    {
      "cell_type": "markdown",
      "metadata": {
        "id": "08DsVmfsDfgA"
      },
      "source": [
        "# Liquidity Mining Program"
      ]
    },
    {
      "cell_type": "markdown",
      "metadata": {
        "id": "dXGi8YOmDn-M"
      },
      "source": [
        "Global imports"
      ]
    },
    {
      "cell_type": "code",
      "metadata": {
        "id": "poDvTd8NDOj3"
      },
      "source": [
        "import requests\n",
        "url = 'https://vanir.s.singularity.so/v1/graphql'\n",
        "headers = {\n",
        "  'Content-Type' : 'application/json',\n",
        "  'x-hasura-admin-secret' : 'password@2021'\n",
        "}"
      ],
      "execution_count": 7,
      "outputs": []
    },
    {
      "cell_type": "markdown",
      "metadata": {
        "id": "67Ps2FU4Dp74"
      },
      "source": [
        "Get all validators at current block height\n",
        "\n",
        "\n"
      ]
    },
    {
      "cell_type": "code",
      "metadata": {
        "colab": {
          "base_uri": "https://localhost:8080/"
        },
        "id": "PuBmbLljDeZg",
        "outputId": "495008e0-04c6-4ce0-bfde-025b2ba516c2"
      },
      "source": [
        "getValidatorQuery = {\"query\": \"query GetValidators { validators_betanet(limit: 1 order_by: {height: desc}) { validators } }\"}\n",
        "\n",
        "r = requests.post(url=url, json=getValidatorQuery, headers=headers).json()\n",
        "print(r['data']['validators_betanet'][0]['validators'])"
      ],
      "execution_count": 6,
      "outputs": [
        {
          "output_type": "stream",
          "text": [
            "['031476B028E64ACFB853C071EA2E3F8FFDD0E339', '382A9BC51EA9DBEB0C1544CCFFD966F8CFFD6042', '521D35251D583A10C026CB25D38C9AA2DE3DB0F6', '6B0F1613D678B79106C203BC02D1775F92874A80', '74CBE9A6993BE6FEB07E8EBB40C600721259A34D', '988B9BDFA676A1E2B298AEBAADA3C08F6A156EC7', 'B692AE163794E65B5DD44FE4587749625F460921', 'EBB7E5425BEF921B85FB5C138D404443E94BAAC7']\n"
          ],
          "name": "stdout"
        }
      ]
    },
    {
      "cell_type": "markdown",
      "metadata": {
        "id": "zXVc_7dGFbNO"
      },
      "source": [
        "Get list of all Liquidity Providers"
      ]
    },
    {
      "cell_type": "code",
      "metadata": {
        "colab": {
          "base_uri": "https://localhost:8080/"
        },
        "id": "cqlC4YCoFvu6",
        "outputId": "7e6f65a9-1fb9-4654-e204-f95a7da702cd"
      },
      "source": [
        "getLiquidityProviderQuery = {\"query\": \"query GetLiquidityProviders { events_betanet(where: {type: {_eq: \\\"added_liquidity\\\"} timestamp: {}}) { al_provider } }\"}\n",
        "\n",
        "r = requests.post(url=url, json=getLiquidityProviderQuery, headers=headers).json()\n",
        "al_providers = r['data']['events_betanet']\n",
        "lp_arr = [i['al_provider'] for i in al_providers]\n",
        "print(lp_arr)"
      ],
      "execution_count": 10,
      "outputs": [
        {
          "output_type": "stream",
          "text": [
            "['sif13sdapj5h0xk4rpns0sv5zgpnzmnj6ssymr6d32', 'sif1hjkgsq0wcmwdh8pr3snhswx5xyy4zpgs833akh', 'sif1k3ldrhrtkr6ncgjlu2ltyls9rxqtu9643lknrk', 'sif1hjkgsq0wcmwdh8pr3snhswx5xyy4zpgs833akh', 'sif1syavy2npfyt9tcncdtsdzf7kny9lh777yqc2nd', 'sif13rhur8wxxkgw4v9ktpqke48wsycm3cznn58am8', 'sif1hjkgsq0wcmwdh8pr3snhswx5xyy4zpgs833akh', 'sif1hjkgsq0wcmwdh8pr3snhswx5xyy4zpgs833akh']\n"
          ],
          "name": "stdout"
        }
      ]
    },
    {
      "cell_type": "markdown",
      "metadata": {
        "id": "1V3oKAJXHqrL"
      },
      "source": [
        "Get Liquidity Providers with amounts"
      ]
    },
    {
      "cell_type": "code",
      "metadata": {
        "colab": {
          "base_uri": "https://localhost:8080/"
        },
        "id": "PL_9hhtmHtN3",
        "outputId": "f80c55c2-6eb6-45ad-fcd7-cd53934a366f"
      },
      "source": [
        "getLiquidityProviderWithAmountsQuery= {\"query\": \"query GetLiquidityProvidersWithAmounts { events_betanet(where: {type: {_eq: \\\"added_liquidity\\\"} timestamp: {}}) { al_provider al_amount al_token } }\"}\n",
        "r = requests.post(url=url, json=getLiquidityProviderWithAmountsQuery, headers=headers).json()\n",
        "al_providers = r['data']['events_betanet']\n",
        "\n",
        "print(al_providers)"
      ],
      "execution_count": 16,
      "outputs": [
        {
          "output_type": "stream",
          "text": [
            "[{'al_provider': 'sif13sdapj5h0xk4rpns0sv5zgpnzmnj6ssymr6d32', 'al_amount': 1.33658008658, 'al_token': 'ceth'}, {'al_provider': 'sif1hjkgsq0wcmwdh8pr3snhswx5xyy4zpgs833akh', 'al_amount': 1.17243666269, 'al_token': 'cusdt'}, {'al_provider': 'sif1k3ldrhrtkr6ncgjlu2ltyls9rxqtu9643lknrk', 'al_amount': 0.015474705999, 'al_token': 'cusdt'}, {'al_provider': 'sif1hjkgsq0wcmwdh8pr3snhswx5xyy4zpgs833akh', 'al_amount': 1.33256768534, 'al_token': 'cusdt'}, {'al_provider': 'sif1syavy2npfyt9tcncdtsdzf7kny9lh777yqc2nd', 'al_amount': 0.398320129012, 'al_token': 'ceth'}, {'al_provider': 'sif13rhur8wxxkgw4v9ktpqke48wsycm3cznn58am8', 'al_amount': 2.67866462242, 'al_token': 'ceth'}, {'al_provider': 'sif1hjkgsq0wcmwdh8pr3snhswx5xyy4zpgs833akh', 'al_amount': 1.41954266044, 'al_token': 'cant'}, {'al_provider': 'sif1hjkgsq0wcmwdh8pr3snhswx5xyy4zpgs833akh', 'al_amount': 1.34753444097, 'al_token': 'ceth'}]\n"
          ],
          "name": "stdout"
        }
      ]
    }
  ]
}