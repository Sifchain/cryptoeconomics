{
  "nbformat": 4,
  "nbformat_minor": 0,
  "metadata": {
    "colab": {
      "name": "liquidity_mining.ipynb",
      "provenance": []
    },
    "kernelspec": {
      "display_name": "Python 3",
      "name": "python3"
    }
  },
  "cells": [
    {
      "cell_type": "markdown",
      "metadata": {
        "id": "08DsVmfsDfgA"
      },
      "source": [
        "# Liquidity Mining Program"
      ]
    },
    {
      "cell_type": "markdown",
      "metadata": {
        "id": "dXGi8YOmDn-M"
      },
      "source": [
        "Global imports"
      ]
    },
    {
      "cell_type": "code",
      "metadata": {
        "id": "poDvTd8NDOj3"
      },
      "source": [
        "import requests\n",
        "url = 'https://vanir.s.singularity.so/v1/graphql'\n",
        "headers = {\n",
        "  'Content-Type' : 'application/json',\n",
        "  'x-hasura-admin-secret' : 'password@2021'\n",
        "}\n"
      ],
      "execution_count": 52,
      "outputs": []
    },
    {
      "cell_type": "markdown",
      "metadata": {
        "id": "NTJzrZE9Kpcr"
      },
      "source": [
        "Utilities"
      ]
    },
    {
      "cell_type": "code",
      "metadata": {
        "colab": {
          "base_uri": "https://localhost:8080/"
        },
        "id": "ahcnNpdLKosH",
        "outputId": "5b3c8a77-4655-4a3c-9b18-f7c736f5ab96"
      },
      "source": [
        "def executeQuery(query_json):\n",
        "  r = requests.post(url=url, json=query_json, headers=headers).json()\n",
        "  return r['data']\n",
        "\n",
        "def getDecimalDict():\n",
        "  token_list_url = 'https://raw.githubusercontent.com/Sifchain/sifnode/613ddd317c307a6e12e4f3ddf87000f4e40b31e6/ui/core/src/assets.sifchain.mainnet.json'\n",
        "  token_list = requests.get(token_list_url).json()\n",
        "  token_decimals_dictionary = {'ceth':18}\n",
        "  for token in token_list['assets']:\n",
        "    try:\n",
        "        token_decimals_dictionary[token['symbol'].lower()] = token['decimals']\n",
        "    except KeyError as e:\n",
        "        pass\n",
        "  return token_decimals_dictionary\n",
        "\n",
        "def getPools():\n",
        "  url = 'https://api.sifchain.finance/clp/getPools'\n",
        "  r = requests.get(url).json()\n",
        "  pools = r['result']['Pools']\n",
        "  token_decimals_dictionary = getDecimalDict()\n",
        "  pool_data ={}\n",
        "  for i in pools:\n",
        "    d=i\n",
        "    symbol = i['external_asset']['symbol']\n",
        "    d['decimals'] = token_decimals_dictionary[symbol]\n",
        "    pool_data[symbol] = d\n",
        "  return pool_data\n",
        "\n",
        "def calculatePoolShare(address):\n",
        "  al_query_str = '''\n",
        "  query GetLiquidityProvidersWithAmounts { events_betanet(\n",
        "    where: {al_provider: {_eq: \\\"%s\\\"}}) \n",
        "    { al_provider al_amount al_token timestamp } }\n",
        "    ''' % address\n",
        "\n",
        "  al_query_json = {\"query\": al_query_str}\n",
        "  al_json = executeQuery(al_query_json)\n",
        "\n",
        "  rl_query_str = '''\n",
        "  query GetLiquidityProvidersWithAmounts { events_betanet(\n",
        "    where: {rl_provider: {_eq: \\\"%s\\\"}}) \n",
        "    { rl_provider rl_amount rl_token timestamp } }\n",
        "    ''' % address\n",
        "\n",
        "  rl_query_json = {\"query\": rl_query_str}\n",
        "  rl_json = executeQuery(rl_query_json)\n",
        "\n",
        "  pool_share = {}\n",
        "\n",
        "  for i in al_json['events_betanet']:\n",
        "    pool_share[i['al_token']] = 0\n",
        "\n",
        "  for i in rl_json['events_betanet']:\n",
        "    pool_share[i['rl_token']] = 0\n",
        "  \n",
        "  for i in al_json['events_betanet']:\n",
        "    pool_share[i['al_token']] += i['al_amount']\n",
        "\n",
        "  for i in rl_json['events_betanet']:\n",
        "    pool_share[i['rl_token']] -= i['rl_amount']\n",
        "\n",
        "  pools = getPools()\n",
        "  pool_data=[]\n",
        "  for token,amount in pool_share.items():\n",
        "    d={}\n",
        "    d['symbol'] = token\n",
        "    d['amount'] = amount\n",
        "    d['share'] = 0\n",
        "    pool_data.append(d)\n",
        "  \n",
        "  for i in pool_data:\n",
        "    nab = pools[i['symbol']]['native_asset_balance']\n",
        "    decimals = pools[i['symbol']]['decimals']\n",
        "    normalised_nab = float(nab)/10**(decimals)\n",
        "    share = i['amount']/normalised_nab\n",
        "    i['share'] = share\n",
        "    \n",
        "  return pool_data\n",
        "\n",
        "#calculatePoolShare('sif1sk4jsedru5ezt47hy52z3tkpts9m04henfrema')\n"
      ],
      "execution_count": 60,
      "outputs": [
        {
          "output_type": "execute_result",
          "data": {
            "text/plain": [
              "[{'amount': -77.7987231148,\n",
              "  'rewards': -1.8747878030938067e-11,\n",
              "  'share': -2.2497462636110735e-17,\n",
              "  'symbol': 'cusdt'},\n",
              " {'amount': 0.0, 'rewards': 0.0, 'share': 0.0, 'symbol': 'cusdc'}]"
            ]
          },
          "metadata": {
            "tags": []
          },
          "execution_count": 60
        }
      ]
    },
    {
      "cell_type": "markdown",
      "metadata": {
        "id": "67Ps2FU4Dp74"
      },
      "source": [
        "Get all validators at current block height\n",
        "\n",
        "\n"
      ]
    },
    {
      "cell_type": "code",
      "metadata": {
        "colab": {
          "base_uri": "https://localhost:8080/"
        },
        "id": "PuBmbLljDeZg",
        "outputId": "495008e0-04c6-4ce0-bfde-025b2ba516c2"
      },
      "source": [
        "getValidatorQuery = {\"query\": \"query GetValidators { validators_betanet(limit: 1 order_by: {height: desc}) { validators } }\"}\n",
        "\n",
        "r = requests.post(url=url, json=getValidatorQuery, headers=headers).json()\n",
        "print(r['data']['validators_betanet'][0]['validators'])"
      ],
      "execution_count": null,
      "outputs": [
        {
          "output_type": "stream",
          "text": [
            "['031476B028E64ACFB853C071EA2E3F8FFDD0E339', '382A9BC51EA9DBEB0C1544CCFFD966F8CFFD6042', '521D35251D583A10C026CB25D38C9AA2DE3DB0F6', '6B0F1613D678B79106C203BC02D1775F92874A80', '74CBE9A6993BE6FEB07E8EBB40C600721259A34D', '988B9BDFA676A1E2B298AEBAADA3C08F6A156EC7', 'B692AE163794E65B5DD44FE4587749625F460921', 'EBB7E5425BEF921B85FB5C138D404443E94BAAC7']\n"
          ],
          "name": "stdout"
        }
      ]
    },
    {
      "cell_type": "markdown",
      "metadata": {
        "id": "zXVc_7dGFbNO"
      },
      "source": [
        "Get list of all Liquidity Providers"
      ]
    },
    {
      "cell_type": "code",
      "metadata": {
        "colab": {
          "base_uri": "https://localhost:8080/"
        },
        "id": "cqlC4YCoFvu6",
        "outputId": "7e6f65a9-1fb9-4654-e204-f95a7da702cd"
      },
      "source": [
        "getLiquidityProviderQuery = {\"query\": \"query GetLiquidityProviders { events_betanet(where: {type: {_eq: \\\"added_liquidity\\\"} timestamp: {}}) { al_provider } }\"}\n",
        "\n",
        "r = requests.post(url=url, json=getLiquidityProviderQuery, headers=headers).json()\n",
        "al_providers = r['data']['events_betanet']\n",
        "lp_arr = [i['al_provider'] for i in al_providers]\n",
        "print(lp_arr)"
      ],
      "execution_count": null,
      "outputs": [
        {
          "output_type": "stream",
          "text": [
            "['sif13sdapj5h0xk4rpns0sv5zgpnzmnj6ssymr6d32', 'sif1hjkgsq0wcmwdh8pr3snhswx5xyy4zpgs833akh', 'sif1k3ldrhrtkr6ncgjlu2ltyls9rxqtu9643lknrk', 'sif1hjkgsq0wcmwdh8pr3snhswx5xyy4zpgs833akh', 'sif1syavy2npfyt9tcncdtsdzf7kny9lh777yqc2nd', 'sif13rhur8wxxkgw4v9ktpqke48wsycm3cznn58am8', 'sif1hjkgsq0wcmwdh8pr3snhswx5xyy4zpgs833akh', 'sif1hjkgsq0wcmwdh8pr3snhswx5xyy4zpgs833akh']\n"
          ],
          "name": "stdout"
        }
      ]
    },
    {
      "cell_type": "markdown",
      "metadata": {
        "id": "1V3oKAJXHqrL"
      },
      "source": [
        "Get Liquidity Providers with amounts"
      ]
    },
    {
      "cell_type": "code",
      "metadata": {
        "colab": {
          "background_save": true,
          "base_uri": "https://localhost:8080/"
        },
        "id": "PL_9hhtmHtN3",
        "outputId": "2aab3ea7-32b9-42b4-e33f-57a654c94329"
      },
      "source": [
        "getLiquidityProviderWithAmountsQuery= {\"query\": \"query GetLiquidityProvidersWithAmounts { events_betanet(where: {type: {_eq: \\\"added_liquidity\\\"} timestamp: {}}) { al_provider al_amount al_token } }\"}\n",
        "r = requests.post(url=url, json=getLiquidityProviderQuery, headers=headers).json()\n",
        "al_providers = r['data']['events_betanet']\n",
        "\n",
        "print(r)"
      ],
      "execution_count": null,
      "outputs": [
        {
          "output_type": "stream",
          "text": [
            "{'data': {'events_betanet': [{'al_provider': 'sif13sdapj5h0xk4rpns0sv5zgpnzmnj6ssymr6d32'}, {'al_provider': 'sif1hjkgsq0wcmwdh8pr3snhswx5xyy4zpgs833akh'}, {'al_provider': 'sif1k3ldrhrtkr6ncgjlu2ltyls9rxqtu9643lknrk'}, {'al_provider': 'sif1hjkgsq0wcmwdh8pr3snhswx5xyy4zpgs833akh'}, {'al_provider': 'sif1syavy2npfyt9tcncdtsdzf7kny9lh777yqc2nd'}, {'al_provider': 'sif13rhur8wxxkgw4v9ktpqke48wsycm3cznn58am8'}, {'al_provider': 'sif1hjkgsq0wcmwdh8pr3snhswx5xyy4zpgs833akh'}, {'al_provider': 'sif1hjkgsq0wcmwdh8pr3snhswx5xyy4zpgs833akh'}]}}\n"
          ],
          "name": "stdout"
        }
      ]
    },
    {
      "cell_type": "markdown",
      "metadata": {
        "id": "4cUehl1BKwBd"
      },
      "source": [
        "Get pool share "
      ]
    },
    {
      "cell_type": "code",
      "metadata": {
        "colab": {
          "base_uri": "https://localhost:8080/"
        },
        "id": "S-jNhkhGK1FS",
        "outputId": "41fadd88-c48e-4278-c013-31aa8ea11ce6"
      },
      "source": [
        "#vesting multiplier (VM) Liquidity Lock Multiplier (LLM)\n",
        "def calculateRewards(address, vm=1, llm=1):\n",
        "  rowans = 833333\n",
        "  pool_share = calculatePoolShare(address)\n",
        "  rewards = []\n",
        "  for i in pool_share:\n",
        "    d=i\n",
        "    d['rewards'] = rowans * i['share'] * vm * llm\n",
        "    rewards.append(d)\n",
        "\n",
        "  return rewards\n",
        "\n",
        "calculateRewards('sif1sk4jsedru5ezt47hy52z3tkpts9m04henfrema')"
      ],
      "execution_count": 61,
      "outputs": [
        {
          "output_type": "execute_result",
          "data": {
            "text/plain": [
              "[{'amount': -77.7987231148,\n",
              "  'rewards': -1.8747878030938067e-11,\n",
              "  'share': -2.2497462636110735e-17,\n",
              "  'symbol': 'cusdt'},\n",
              " {'amount': 0.0, 'rewards': 0.0, 'share': 0.0, 'symbol': 'cusdc'}]"
            ]
          },
          "metadata": {
            "tags": []
          },
          "execution_count": 61
        }
      ]
    }
  ]
}