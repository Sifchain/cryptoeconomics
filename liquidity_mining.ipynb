{
  "nbformat": 4,
  "nbformat_minor": 0,
  "metadata": {
    "colab": {
      "name": "liquidity_mining.ipynb",
      "provenance": [],
      "collapsed_sections": [],
      "toc_visible": true
    },
    "kernelspec": {
      "name": "python373jvsc74a57bd031f2aee4e71d21fbe5cf8b01ff0e069b9275f58929596ceb00d14d90e3e16cd6",
      "display_name": "Python 3.7.3 64-bit"
    },
    "metadata": {
      "interpreter": {
        "hash": "31f2aee4e71d21fbe5cf8b01ff0e069b9275f58929596ceb00d14d90e3e16cd6"
      }
    }
  },
  "cells": [
    {
      "cell_type": "markdown",
      "metadata": {
        "id": "08DsVmfsDfgA"
      },
      "source": [
        "# Liquidity Mining Program"
      ]
    },
    {
      "cell_type": "markdown",
      "metadata": {
        "id": "dXGi8YOmDn-M"
      },
      "source": [
        "Global imports"
      ]
    },
    {
      "cell_type": "code",
      "metadata": {
        "id": "poDvTd8NDOj3"
      },
      "source": [
        "#!pip install ciso8601\n",
        "\n",
        "import requests\n",
        "import ciso8601\n",
        "from datetime import datetime, timedelta, timezone\n",
        "\n",
        "url = 'https://vanir.s.singularity.so/v1/graphql'\n",
        "headers = {\n",
        "  'Content-Type' : 'application/json',\n",
        "  'x-hasura-admin-secret' : '**********'\n",
        "}\n"
      ],
      "execution_count": 4,
      "outputs": []
    },
    {
      "cell_type": "markdown",
      "metadata": {
        "id": "NTJzrZE9Kpcr"
      },
      "source": [
        "Snapshot calculation code"
      ]
    },
    {
      "cell_type": "code",
      "metadata": {
        "id": "6L1RRFyh0Lf2"
      },
      "source": [
        "#get distinct addresses of sifchain liq mining users\n",
        "def getDistinctAddresses():\n",
        "  adr_query_str = '''\n",
        "    query GetUniqueAddresses {\n",
        "      events_betanet(where: {al_provider: {_is_null: false}}, distinct_on: [al_provider]) {\n",
        "        al_provider\n",
        "      }\n",
        "    }\n",
        "    '''\n",
        "  adr_query_json = {\"query\": adr_query_str}\n",
        "  adr_json = executeQuery(adr_query_json)\n",
        "  unique_addresses = [i['al_provider'] for i in adr_json['events_betanet']]\n",
        "  return unique_addresses\n",
        "\n",
        "#get timestamp of when betanet started\n",
        "def getFirstTimestamp():\n",
        "  time_query_str = '''\n",
        "      query GetFirstTimestamp {\n",
        "        events_betanet(limit: 1, order_by: {timestamp: asc}) {\n",
        "          timestamp\n",
        "        }\n",
        "      }\n",
        "  '''\n",
        "  time_query_json = {\"query\": time_query_str}\n",
        "  time_json = executeQuery(time_query_json)\n",
        "  first_timestamp = time_json['events_betanet'][0]['timestamp']\n",
        "  ft = ciso8601.parse_datetime(first_timestamp)\n",
        "  return ft\n",
        "\n",
        "#current epoch time hardcoded to 10 minutes\n",
        "def getEpochArray(epoch_time=10):\n",
        "  ft = getFirstTimestamp()\n",
        "  now = datetime.now(timezone.utc)\n",
        "  \n",
        "  epoch_arr=[]\n",
        "  while (now > ft):\n",
        "    new_now = now - timedelta(minutes=epoch_time)\n",
        "    epoch_arr.append({'begin': new_now, 'end': now})\n",
        "    now = new_now\n",
        "\n",
        "  return epoch_arr\n",
        "\n",
        "def getTokenPriceInRowan(token, timestamp):\n",
        "  if type(timestamp) is str:\n",
        "    timestamp = ciso8601.parse_datetime(timestamp)\n",
        "  begin_ts = timestamp - timedelta(minutes=1)\n",
        "\n",
        "  query_str = '''\n",
        "      query GetTokenPrice {\n",
        "        prices(where: {timestamp: {_gt: \\\"%s\\\"}}, order_by: {timestamp: asc}, limit: 2) {\n",
        "          token_prices\n",
        "          timestamp\n",
        "        }\n",
        "      }\n",
        "  ''' %(begin_ts)\n",
        "\n",
        "  query_json = {\"query\": query_str}\n",
        "  price_json = executeQuery(query_json)\n",
        "  price_json = price_json['prices'][0]['token_prices']\n",
        "  token_price = price_json[token+'_rowan']\n",
        "  return token_price\n",
        "\n",
        "def computeLiquidityMiningData():\n",
        "  adr_query_str_al = '''\n",
        "    query GetUniqueAddresses_al {\n",
        "      events_betanet(where: {al_provider: {_is_null: false}}, order_by: {timestamp: asc}) {\n",
        "        al_provider\n",
        "        al_token\n",
        "        al_amount\n",
        "        timestamp\n",
        "      }\n",
        "    }\n",
        "    '''\n",
        "  adr_query_json_al = {\"query\": adr_query_str_al}\n",
        "  adr_json_al = executeQuery(adr_query_json_al)\n",
        "\n",
        "  adr_query_str_rl = '''\n",
        "    query GetUniqueAddresses_rl {\n",
        "      events_betanet( where: {rl_provider: {_is_null: false}}, order_by: {timestamp: asc}) {\n",
        "        rl_provider\n",
        "        rl_token\n",
        "        rl_amount\n",
        "        timestamp\n",
        "      }\n",
        "    }\n",
        "    '''\n",
        "\n",
        "  adr_query_json_rl = {\"query\": adr_query_str_rl}\n",
        "  adr_json_rl = executeQuery(adr_query_json_rl)\n",
        "  return adr_json_al['events_betanet'], adr_json_rl['events_betanet']\n",
        "\n",
        "def getUserSnapshot():\n",
        "  #create snapshot scaffold\n",
        "  distinct_addresses = getDistinctAddresses()\n",
        "  epoch_array = getEpochArray()\n",
        "  first_timestamp = getFirstTimestamp()\n",
        "\n",
        "  snapshots={}\n",
        "  for address in distinct_addresses:\n",
        "    snapshots[address] = [0] * (len(epoch_array)+1)\n",
        "  \n",
        "  #al = added liquidity, rl = removed liquidity\n",
        "  al_data, rl_data = computeLiquidityMiningData()\n",
        "\n",
        "  #populate snapshot scaffold\n",
        "\n",
        "  #iterate over liquidity add events\n",
        "  for item in al_data:\n",
        "    token = item['al_token']\n",
        "    timestamp = ciso8601.parse_datetime(item['timestamp'])\n",
        "    print(token, timestamp)\n",
        "    address = item['al_provider']\n",
        "    tokenAmount = item['al_amount']\n",
        "    tokenPrice = getTokenPriceInRowan(token, timestamp)\n",
        "    index = int((timestamp - first_timestamp).total_seconds() / (60*10))\n",
        "    \n",
        "    snapshots[address][index] += tokenAmount * tokenPrice\n",
        "    #print(index, len(epoch_array), address, token, snapshots[address][index], snapshots[address])\n",
        "  \n",
        "  #iterate over remove liquidity events\n",
        "  for item in rl_data:\n",
        "    token = item['rl_token']\n",
        "    timestamp = ciso8601.parse_datetime(item['timestamp'])\n",
        "    print(token, timestamp)\n",
        "    address = item['rl_provider']\n",
        "    tokenAmount = item['rl_amount']\n",
        "    tokenPrice = getTokenPriceInRowan(token, timestamp)\n",
        "    index = int((timestamp - first_timestamp).total_seconds() / (60*10))\n",
        "    try:\n",
        "      snapshots[address][index] -= tokenAmount * tokenPrice\n",
        "    except KeyError:\n",
        "      snapshots[address] = [0] * (len(epoch_array)+1)\n",
        "      snapshots[address][index] -= tokenAmount * tokenPrice\n",
        "    #print(index, len(epoch_array), address, token, snapshots[address][index], snapshots[address])\n",
        "\n",
        "  return snapshots\n",
        "\n",
        "getUserSnapshot()\n",
        "#getTokenPriceInRowan('c1inch', '2021-03-11T13:52:55.08538+00:00')\n",
        "#getTokenPriceInRowan('ceth', '2021-02-14T17:17:55.661623+00:00')"
      ],
      "execution_count": 5,
      "outputs": [
        {
          "output_type": "error",
          "ename": "NameError",
          "evalue": "name 'executeQuery' is not defined",
          "traceback": [
            "\u001b[0;31m---------------------------------------------------------------------------\u001b[0m",
            "\u001b[0;31mNameError\u001b[0m                                 Traceback (most recent call last)",
            "\u001b[0;32m<ipython-input-5-fede127a9dd4>\u001b[0m in \u001b[0;36m<module>\u001b[0;34m\u001b[0m\n\u001b[1;32m    136\u001b[0m   \u001b[0;32mreturn\u001b[0m \u001b[0msnapshots\u001b[0m\u001b[0;34m\u001b[0m\u001b[0;34m\u001b[0m\u001b[0m\n\u001b[1;32m    137\u001b[0m \u001b[0;34m\u001b[0m\u001b[0m\n\u001b[0;32m--> 138\u001b[0;31m \u001b[0mgetUserSnapshot\u001b[0m\u001b[0;34m(\u001b[0m\u001b[0;34m)\u001b[0m\u001b[0;34m\u001b[0m\u001b[0;34m\u001b[0m\u001b[0m\n\u001b[0m\u001b[1;32m    139\u001b[0m \u001b[0;31m#getTokenPriceInRowan('c1inch', '2021-03-11T13:52:55.08538+00:00')\u001b[0m\u001b[0;34m\u001b[0m\u001b[0;34m\u001b[0m\u001b[0;34m\u001b[0m\u001b[0m\n\u001b[1;32m    140\u001b[0m \u001b[0;31m#getTokenPriceInRowan('ceth', '2021-02-14T17:17:55.661623+00:00')\u001b[0m\u001b[0;34m\u001b[0m\u001b[0;34m\u001b[0m\u001b[0;34m\u001b[0m\u001b[0m\n",
            "\u001b[0;32m<ipython-input-5-fede127a9dd4>\u001b[0m in \u001b[0;36mgetUserSnapshot\u001b[0;34m()\u001b[0m\n\u001b[1;32m     92\u001b[0m \u001b[0;32mdef\u001b[0m \u001b[0mgetUserSnapshot\u001b[0m\u001b[0;34m(\u001b[0m\u001b[0;34m)\u001b[0m\u001b[0;34m:\u001b[0m\u001b[0;34m\u001b[0m\u001b[0;34m\u001b[0m\u001b[0m\n\u001b[1;32m     93\u001b[0m   \u001b[0;31m#create snapshot scaffold\u001b[0m\u001b[0;34m\u001b[0m\u001b[0;34m\u001b[0m\u001b[0;34m\u001b[0m\u001b[0m\n\u001b[0;32m---> 94\u001b[0;31m   \u001b[0mdistinct_addresses\u001b[0m \u001b[0;34m=\u001b[0m \u001b[0mgetDistinctAddresses\u001b[0m\u001b[0;34m(\u001b[0m\u001b[0;34m)\u001b[0m\u001b[0;34m\u001b[0m\u001b[0;34m\u001b[0m\u001b[0m\n\u001b[0m\u001b[1;32m     95\u001b[0m   \u001b[0mepoch_array\u001b[0m \u001b[0;34m=\u001b[0m \u001b[0mgetEpochArray\u001b[0m\u001b[0;34m(\u001b[0m\u001b[0;34m)\u001b[0m\u001b[0;34m\u001b[0m\u001b[0;34m\u001b[0m\u001b[0m\n\u001b[1;32m     96\u001b[0m   \u001b[0mfirst_timestamp\u001b[0m \u001b[0;34m=\u001b[0m \u001b[0mgetFirstTimestamp\u001b[0m\u001b[0;34m(\u001b[0m\u001b[0;34m)\u001b[0m\u001b[0;34m\u001b[0m\u001b[0;34m\u001b[0m\u001b[0m\n",
            "\u001b[0;32m<ipython-input-5-fede127a9dd4>\u001b[0m in \u001b[0;36mgetDistinctAddresses\u001b[0;34m()\u001b[0m\n\u001b[1;32m      9\u001b[0m     '''\n\u001b[1;32m     10\u001b[0m   \u001b[0madr_query_json\u001b[0m \u001b[0;34m=\u001b[0m \u001b[0;34m{\u001b[0m\u001b[0;34m\"query\"\u001b[0m\u001b[0;34m:\u001b[0m \u001b[0madr_query_str\u001b[0m\u001b[0;34m}\u001b[0m\u001b[0;34m\u001b[0m\u001b[0;34m\u001b[0m\u001b[0m\n\u001b[0;32m---> 11\u001b[0;31m   \u001b[0madr_json\u001b[0m \u001b[0;34m=\u001b[0m \u001b[0mexecuteQuery\u001b[0m\u001b[0;34m(\u001b[0m\u001b[0madr_query_json\u001b[0m\u001b[0;34m)\u001b[0m\u001b[0;34m\u001b[0m\u001b[0;34m\u001b[0m\u001b[0m\n\u001b[0m\u001b[1;32m     12\u001b[0m   \u001b[0munique_addresses\u001b[0m \u001b[0;34m=\u001b[0m \u001b[0;34m[\u001b[0m\u001b[0mi\u001b[0m\u001b[0;34m[\u001b[0m\u001b[0;34m'al_provider'\u001b[0m\u001b[0;34m]\u001b[0m \u001b[0;32mfor\u001b[0m \u001b[0mi\u001b[0m \u001b[0;32min\u001b[0m \u001b[0madr_json\u001b[0m\u001b[0;34m[\u001b[0m\u001b[0;34m'events_betanet'\u001b[0m\u001b[0;34m]\u001b[0m\u001b[0;34m]\u001b[0m\u001b[0;34m\u001b[0m\u001b[0;34m\u001b[0m\u001b[0m\n\u001b[1;32m     13\u001b[0m   \u001b[0;32mreturn\u001b[0m \u001b[0munique_addresses\u001b[0m\u001b[0;34m\u001b[0m\u001b[0;34m\u001b[0m\u001b[0m\n",
            "\u001b[0;31mNameError\u001b[0m: name 'executeQuery' is not defined"
          ]
        }
      ]
    },
    {
      "cell_type": "markdown",
      "metadata": {
        "id": "1CZEdtCAUgOu"
      },
      "source": [
        "Utilities"
      ]
    },
    {
      "cell_type": "code",
      "metadata": {
        "id": "ahcnNpdLKosH"
      },
      "source": [
        "def executeQuery(query_json):\n",
        "  r = requests.post(url=url, json=query_json, headers=headers).json()\n",
        "  return r['data']\n",
        "\n",
        "def getDecimalDict():\n",
        "  token_list_url = 'https://raw.githubusercontent.com/Sifchain/sifnode/develop/ui/core/src/assets.sifchain.mainnet.json'\n",
        "  token_list = requests.get(token_list_url).json()\n",
        "  token_decimals_dictionary = {'ceth':18}\n",
        "  for token in token_list['assets']:\n",
        "    try:\n",
        "        token_decimals_dictionary[token['symbol'].lower()] = token['decimals']\n",
        "    except KeyError as e:\n",
        "        pass\n",
        "  return token_decimals_dictionary\n",
        "\n",
        "def getPools():\n",
        "  url = 'https://api.sifchain.finance/clp/getPools'\n",
        "  r = requests.get(url).json()\n",
        "  pools = r['result']['Pools']\n",
        "  token_decimals_dictionary = getDecimalDict()\n",
        "  pool_data ={}\n",
        "  for i in pools:\n",
        "    d=i\n",
        "    symbol = i['external_asset']['symbol']\n",
        "    d['decimals'] = token_decimals_dictionary[symbol]\n",
        "    pool_data[symbol] = d\n",
        "  return pool_data\n",
        "\n",
        "def calculatePoolShare(address):\n",
        "  al_query_str = '''\n",
        "  query GetLiquidityProvidersWithAmounts { events_betanet(\n",
        "    where: {al_provider: {_eq: \\\"%s\\\"}}) \n",
        "    { al_provider al_amount al_token timestamp } }\n",
        "    ''' % address\n",
        "\n",
        "  al_query_json = {\"query\": al_query_str}\n",
        "  al_json = executeQuery(al_query_json)\n",
        "\n",
        "  rl_query_str = '''\n",
        "  query GetLiquidityProvidersWithAmounts { events_betanet(\n",
        "    where: {rl_provider: {_eq: \\\"%s\\\"}}) \n",
        "    { rl_provider rl_amount rl_token timestamp } }\n",
        "    ''' % address\n",
        "\n",
        "  rl_query_json = {\"query\": rl_query_str}\n",
        "  rl_json = executeQuery(rl_query_json)\n",
        "\n",
        "  pool_share = {}\n",
        "\n",
        "  for i in al_json['events_betanet']:\n",
        "    pool_share[i['al_token']] = 0\n",
        "\n",
        "  for i in rl_json['events_betanet']:\n",
        "    pool_share[i['rl_token']] = 0\n",
        "  \n",
        "  for i in al_json['events_betanet']:\n",
        "    pool_share[i['al_token']] += i['al_amount']\n",
        "\n",
        "  for i in rl_json['events_betanet']:\n",
        "    pool_share[i['rl_token']] -= i['rl_amount']\n",
        "\n",
        "  pools = getPools()\n",
        "  pool_data=[]\n",
        "  for token,amount in pool_share.items():\n",
        "    d={}\n",
        "    d['symbol'] = token\n",
        "    d['amount'] = amount\n",
        "    d['share'] = 0\n",
        "    pool_data.append(d)\n",
        "  \n",
        "  for i in pool_data:\n",
        "    nab = pools[i['symbol']]['native_asset_balance']\n",
        "    decimals = pools[i['symbol']]['decimals']\n",
        "    normalised_nab = float(nab)/10**(decimals)\n",
        "    share = i['amount']/normalised_nab\n",
        "    i['share'] = share\n",
        "    \n",
        "  return pool_data\n",
        "\n",
        "def viewPoolShare():\n",
        "  da = getDistinctAddresses()\n",
        "  for i in da:\n",
        "    print(i, calculatePoolShare(i))\n",
        "\n",
        "viewPoolShare()\n",
        "#calculatePoolShare('sif1sk4jsedru5ezt47hy52z3tkpts9m04henfrema')\n"
      ],
      "execution_count": null,
      "outputs": []
    },
    {
      "cell_type": "markdown",
      "metadata": {
        "id": "67Ps2FU4Dp74"
      },
      "source": [
        "Get all validators at current block height\n",
        "\n",
        "\n"
      ]
    },
    {
      "cell_type": "code",
      "metadata": {
        "id": "PuBmbLljDeZg"
      },
      "source": [
        "getValidatorQuery = {\"query\": \"query GetValidators { validators_betanet(limit: 1 order_by: {height: desc}) { validators } }\"}\n",
        "\n",
        "r = requests.post(url=url, json=getValidatorQuery, headers=headers).json()\n",
        "print(r['data']['validators_betanet'][0]['validators'])"
      ],
      "execution_count": null,
      "outputs": []
    },
    {
      "cell_type": "markdown",
      "metadata": {
        "id": "zXVc_7dGFbNO"
      },
      "source": [
        "Get list of all Liquidity Providers"
      ]
    },
    {
      "cell_type": "code",
      "metadata": {
        "id": "cqlC4YCoFvu6"
      },
      "source": [
        "getLiquidityProviderQuery = {\"query\": \"query GetLiquidityProviders { events_betanet(where: {type: {_eq: \\\"added_liquidity\\\"} timestamp: {}}) { al_provider } }\"}\n",
        "\n",
        "r = requests.post(url=url, json=getLiquidityProviderQuery, headers=headers).json()\n",
        "al_providers = r['data']['events_betanet']\n",
        "lp_arr = [i['al_provider'] for i in al_providers]\n",
        "print(lp_arr)"
      ],
      "execution_count": null,
      "outputs": []
    },
    {
      "cell_type": "markdown",
      "metadata": {
        "id": "1V3oKAJXHqrL"
      },
      "source": [
        "Get Liquidity Providers with amounts"
      ]
    },
    {
      "cell_type": "code",
      "metadata": {
        "colab": {
          "background_save": true
        },
        "id": "PL_9hhtmHtN3"
      },
      "source": [
        "getLiquidityProviderWithAmountsQuery= {\"query\": \"query GetLiquidityProvidersWithAmounts { events_betanet(where: {type: {_eq: \\\"added_liquidity\\\"} timestamp: {}}) { al_provider al_amount al_token } }\"}\n",
        "r = requests.post(url=url, json=getLiquidityProviderQuery, headers=headers).json()\n",
        "al_providers = r['data']['events_betanet']\n",
        "\n",
        "print(r)"
      ],
      "execution_count": null,
      "outputs": []
    },
    {
      "cell_type": "markdown",
      "metadata": {
        "id": "4cUehl1BKwBd"
      },
      "source": [
        "Calculate rewards"
      ]
    },
    {
      "cell_type": "code",
      "metadata": {
        "id": "S-jNhkhGK1FS"
      },
      "source": [
        "#vesting multiplier (VM) Liquidity Lock Multiplier (LLM)\n",
        "def calculateRewards(address, vm=1, llm=1):\n",
        "  rowans = 833333\n",
        "  pool_share = calculatePoolShare(address)\n",
        "  rewards = []\n",
        "  for i in pool_share:\n",
        "    d=i\n",
        "    d['rewards'] = rowans * i['share'] * vm * llm\n",
        "    rewards.append(d)\n",
        "\n",
        "  return rewards\n",
        "\n",
        "calculateRewards('sif1sk4jsedru5ezt47hy52z3tkpts9m04henfrema')"
      ],
      "execution_count": null,
      "outputs": []
    }
  ]
}