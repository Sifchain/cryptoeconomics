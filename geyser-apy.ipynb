{
 "cells": [
  {
   "cell_type": "markdown",
   "metadata": {},
   "source": [
    "Created by Eden Au <br>\n",
    "Last Updated: 16 Feb 2021"
   ]
  },
  {
   "cell_type": "markdown",
   "metadata": {},
   "source": [
    "## Liquidity mining constants"
   ]
  },
  {
   "cell_type": "markdown",
   "metadata": {},
   "source": [
    "MINING_SECONDS: the period of the liquidity mining programme (in seconds) <br>\n",
    "TOTAL_REWARD: total number of rewards to be distributed \n",
    "\n",
    "BASIC_RATE: the discount rate with no long-term staking bonus <br>\n",
    "BONUS_SECONDS: the staking time necessary to reach maximum 'multiplier'\n",
    "\n"
   ]
  },
  {
   "cell_type": "code",
   "execution_count": 1,
   "metadata": {},
   "outputs": [],
   "source": [
    "# Generic\n",
    "MINING_SECONDS = 4*30*86400 # 4 months in seconds \n",
    "TOTAL_REWARD = 30e6 # 30mil ROWAN to be distributed\n",
    "\n",
    "# Geyser specific\n",
    "BASIC_RATE = .25\n",
    "BONUS_SECONDS = 12*7*86400 # 12 weeks in seconds\n",
    "\n",
    "# Bundling\n",
    "constants = {'miningSeconds':MINING_SECONDS,\n",
    "             'totalReward':TOTAL_REWARD,\n",
    "             'basicRate':BASIC_RATE,\n",
    "             'bonusSeconds':BONUS_SECONDS}"
   ]
  },
  {
   "cell_type": "markdown",
   "metadata": {},
   "source": [
    "Assume 57,333,333 Rowan tokens provided as liquidity on Day 0"
   ]
  },
  {
   "cell_type": "code",
   "execution_count": 2,
   "metadata": {},
   "outputs": [],
   "source": [
    "# Assumption\n",
    "FIXED_TOTAL_STAKED = 57333333"
   ]
  },
  {
   "cell_type": "markdown",
   "metadata": {},
   "source": [
    "## Standard liquidity mining APY calculator"
   ]
  },
  {
   "cell_type": "code",
   "execution_count": 3,
   "metadata": {},
   "outputs": [],
   "source": [
    "def get_normal_APY(totalStaked, **kwargs):\n",
    "    \"\"\"\n",
    "    args:\n",
    "        totalStaked: global total liquidity staked (in ROWAN)\n",
    "    kwargs:\n",
    "        miningSeconds: the period of the liquidity mining programme (in seconds)\n",
    "        totalReward: total number of rewards to be distributed\n",
    "    returns:\n",
    "        apy: marginal APY\n",
    "    \"\"\"\n",
    "    miningSeconds, totalReward = kwargs['miningSeconds'], kwargs['totalReward']\n",
    "    apy = totalReward \\\n",
    "        / totalStaked \\\n",
    "        * 365 * 86400 / miningSeconds \\\n",
    "        * 100\n",
    "    return apy"
   ]
  },
  {
   "cell_type": "code",
   "execution_count": 4,
   "metadata": {},
   "outputs": [
    {
     "name": "stdout",
     "output_type": "stream",
     "text": [
      "Normal APY: 159.16%\n"
     ]
    }
   ],
   "source": [
    "# example using aforementioned assumption\n",
    "normalApy = get_normal_APY(totalStaked=FIXED_TOTAL_STAKED, \n",
    "                           **constants)\n",
    "print(f'Normal APY: {normalApy:.2f}%')"
   ]
  },
  {
   "cell_type": "markdown",
   "metadata": {},
   "source": [
    "## Geyser liquidity mining APY calculator"
   ]
  },
  {
   "cell_type": "markdown",
   "metadata": {},
   "source": [
    "The y-intercept is $1$ <br>\n",
    "the $max(\\cdot)$ is $\\frac{1}{\\text{BASIC_RATE}}$ at $t \\geq \\text{BONUS_SECONDS}$<br>"
   ]
  },
  {
   "cell_type": "code",
   "execution_count": 5,
   "metadata": {},
   "outputs": [
    {
     "data": {
      "image/png": "[encoded data removed]",
      "text/plain": [
       "<Figure size 432x288 with 1 Axes>"
      ]
     },
     "metadata": {},
     "output_type": "display_data"
    }
   ],
   "source": [
    "import numpy as np\n",
    "import matplotlib.pyplot as plt\n",
    "plt.style.use('fivethirtyeight')\n",
    "\n",
    "days = np.linspace(0,BONUS_SECONDS//86400*1.2)\n",
    "rates = BASIC_RATE + (1-BASIC_RATE) * days / (BONUS_SECONDS//86400)\n",
    "rates = [min(1,r)/BASIC_RATE for r in rates]\n",
    "\n",
    "plt.plot(days, rates)\n",
    "plt.title('Evolution of Geyser multiplier')\n",
    "plt.xlabel('Days')\n",
    "plt.ylabel('Multiplier')\n",
    "plt.show()"
   ]
  },
  {
   "cell_type": "code",
   "execution_count": 6,
   "metadata": {},
   "outputs": [],
   "source": [
    "def get_geyser_APY(totalStakedSeconds, secondsPassed, plannedStakingSeconds, **kwargs):\n",
    "    \"\"\"\n",
    "    Geyser refers to Ampleforth geyser-style liquidity mining programme:\n",
    "    https://github.com/ampleforth/token-geyser/blob/master/contracts/TokenGeyser.sol\n",
    "    \n",
    "    The earlier (unsaturated advantage) AND the longer (saturated advantage) you stake, the more % you earn\n",
    "    args:\n",
    "        totalStakedSeconds: global 'deposit-seconds'\n",
    "        secondsPassed: time elapsed since liquidity mining started (in seconds)\n",
    "        plannedStakingSeconds: how long does users intend to stake (in seconds)\n",
    "    kwargs:\n",
    "        miningSeconds: the period of the liquidity mining programme (in seconds)\n",
    "        totalReward: total number of rewards to be distributed\n",
    "        basicRate: the discount rate with no long-term staking bonus\n",
    "        bonusSeconds: the staking time necessary to reach maximum 'multiplier'\n",
    "    returns:\n",
    "        apy: marginal APY\n",
    "    \"\"\"\n",
    "    miningSeconds, totalReward, basicRate, bonusSeconds = kwargs['miningSeconds'], kwargs['totalReward'], kwargs['basicRate'], kwargs['bonusSeconds']\n",
    "    \n",
    "    # line 1. total reward\n",
    "    # line 2: distributed pro-rata to stakedSeconds, assuming \n",
    "    #         no future staking/unstaking activities (common assumption)\n",
    "    # line 3: normalised by the period to reach max bonus \n",
    "    # line 4: annualised\n",
    "    # line 5: take into account 'multiplier' that incentivises long-term staking\n",
    "    # line 6: convert to percentage\n",
    "    apy = totalReward \\\n",
    "        / (totalStakedSeconds / secondsPassed * (secondsPassed+bonusSeconds)) \\\n",
    "        * bonusSeconds \\\n",
    "        * 365 * 86400 / miningSeconds \\\n",
    "        * min(1, basicRate + (1-basicRate) * plannedStakingSeconds / bonusSeconds) \\\n",
    "        * 100\n",
    "    return apy"
   ]
  },
  {
   "cell_type": "code",
   "execution_count": 7,
   "metadata": {},
   "outputs": [
    {
     "name": "stdout",
     "output_type": "stream",
     "text": [
      "Geyser APY: 159.16%, 0 days after mining started, if users stake 84 days\n",
      "Geyser APY: 157.28%, 1 days after mining started, if users stake 84 days\n",
      "Geyser APY: 146.91%, 7 days after mining started, if users stake 84 days\n",
      "Geyser APY: 117.27%, 30 days after mining started, if users stake 84 days\n"
     ]
    }
   ],
   "source": [
    "# examples using aforementioned assumption\n",
    "# users start mining at different time\n",
    "for secondsPassed in [1, 1*86400, 7*86400, 30*86400]:\n",
    "    geyserApy = get_geyser_APY(totalStakedSeconds=FIXED_TOTAL_STAKED*secondsPassed, \n",
    "                               secondsPassed=secondsPassed,\n",
    "                               plannedStakingSeconds=BONUS_SECONDS,\n",
    "                               **constants) \n",
    "    print(f'Geyser APY: {geyserApy:.2f}%, {secondsPassed/86400:.0f} days after mining started, if users stake {BONUS_SECONDS/86400:.0f} days')"
   ]
  },
  {
   "cell_type": "code",
   "execution_count": 8,
   "metadata": {},
   "outputs": [
    {
     "name": "stdout",
     "output_type": "stream",
     "text": [
      "Geyser APY: 39.79%, 0 days after mining started, if users stake 0 days\n",
      "Geyser APY: 79.58%, 0 days after mining started, if users stake 28 days\n",
      "Geyser APY: 119.37%, 0 days after mining started, if users stake 56 days\n",
      "Geyser APY: 159.16%, 0 days after mining started, if users stake 84 days\n"
     ]
    }
   ],
   "source": [
    "# examples using aforementioned assumption\n",
    "# users stay mining for different periods\n",
    "for plannedStakingSeconds in [0, BONUS_SECONDS//3, BONUS_SECONDS//3*2, BONUS_SECONDS]:\n",
    "    geyserApy = get_geyser_APY(totalStakedSeconds=FIXED_TOTAL_STAKED*1, \n",
    "                               secondsPassed=1,\n",
    "                               plannedStakingSeconds=plannedStakingSeconds,\n",
    "                               **constants) \n",
    "    print(f'Geyser APY: {geyserApy:.2f}%, 0 days after mining started, if users stake {plannedStakingSeconds/86400:.0f} days')"
   ]
  },
  {
   "cell_type": "code",
   "execution_count": null,
   "metadata": {},
   "outputs": [],
   "source": []
  }
 ],
 "metadata": {
  "kernelspec": {
   "display_name": "Python 3",
   "language": "python",
   "name": "python3"
  },
  "language_info": {
   "codemirror_mode": {
    "name": "ipython",
    "version": 3
   },
   "file_extension": ".py",
   "mimetype": "text/x-python",
   "name": "python",
   "nbconvert_exporter": "python",
   "pygments_lexer": "ipython3",
   "version": "3.7.6"
  }
 },
 "nbformat": 4,
 "nbformat_minor": 4
}
